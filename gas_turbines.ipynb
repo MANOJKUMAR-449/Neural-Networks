{
  "nbformat": 4,
  "nbformat_minor": 0,
  "metadata": {
    "colab": {
      "name": "gas_turbines.ipynb",
      "provenance": []
    },
    "kernelspec": {
      "name": "python3",
      "display_name": "Python 3"
    },
    "language_info": {
      "name": "python"
    }
  },
  "cells": [
    {
      "cell_type": "markdown",
      "metadata": {
        "id": "_q1s_odYfl8H"
      },
      "source": [
        " predicting turbine energy yield (TEY) using ambient variables as features."
      ]
    },
    {
      "cell_type": "code",
      "metadata": {
        "id": "XQrUKiCZfnFE"
      },
      "source": [
        "import tensorflow  as tf\n",
        "import numpy as np\n",
        "import pandas as pd\n",
        "import matplotlib.pyplot as plt\n",
        "from keras.models import Sequential\n",
        "from keras.layers import Dense"
      ],
      "execution_count": 1,
      "outputs": []
    },
    {
      "cell_type": "code",
      "metadata": {
        "id": "w3gRvwMhgYQY"
      },
      "source": [
        "data = pd.read_csv('gas_turbines.csv')"
      ],
      "execution_count": 2,
      "outputs": []
    },
    {
      "cell_type": "code",
      "metadata": {
        "colab": {
          "base_uri": "https://localhost:8080/",
          "height": 206
        },
        "id": "GSuq8C1JgeSR",
        "outputId": "01ce40e8-fb20-4b79-8e79-74c362ad2bd5"
      },
      "source": [
        "data.head()"
      ],
      "execution_count": 3,
      "outputs": [
        {
          "output_type": "execute_result",
          "data": {
            "text/html": [
              "<div>\n",
              "<style scoped>\n",
              "    .dataframe tbody tr th:only-of-type {\n",
              "        vertical-align: middle;\n",
              "    }\n",
              "\n",
              "    .dataframe tbody tr th {\n",
              "        vertical-align: top;\n",
              "    }\n",
              "\n",
              "    .dataframe thead th {\n",
              "        text-align: right;\n",
              "    }\n",
              "</style>\n",
              "<table border=\"1\" class=\"dataframe\">\n",
              "  <thead>\n",
              "    <tr style=\"text-align: right;\">\n",
              "      <th></th>\n",
              "      <th>AT</th>\n",
              "      <th>AP</th>\n",
              "      <th>AH</th>\n",
              "      <th>AFDP</th>\n",
              "      <th>GTEP</th>\n",
              "      <th>TIT</th>\n",
              "      <th>TAT</th>\n",
              "      <th>TEY</th>\n",
              "      <th>CDP</th>\n",
              "      <th>CO</th>\n",
              "      <th>NOX</th>\n",
              "    </tr>\n",
              "  </thead>\n",
              "  <tbody>\n",
              "    <tr>\n",
              "      <th>0</th>\n",
              "      <td>6.8594</td>\n",
              "      <td>1007.9</td>\n",
              "      <td>96.799</td>\n",
              "      <td>3.5000</td>\n",
              "      <td>19.663</td>\n",
              "      <td>1059.2</td>\n",
              "      <td>550.00</td>\n",
              "      <td>114.70</td>\n",
              "      <td>10.605</td>\n",
              "      <td>3.1547</td>\n",
              "      <td>82.722</td>\n",
              "    </tr>\n",
              "    <tr>\n",
              "      <th>1</th>\n",
              "      <td>6.7850</td>\n",
              "      <td>1008.4</td>\n",
              "      <td>97.118</td>\n",
              "      <td>3.4998</td>\n",
              "      <td>19.728</td>\n",
              "      <td>1059.3</td>\n",
              "      <td>550.00</td>\n",
              "      <td>114.72</td>\n",
              "      <td>10.598</td>\n",
              "      <td>3.2363</td>\n",
              "      <td>82.776</td>\n",
              "    </tr>\n",
              "    <tr>\n",
              "      <th>2</th>\n",
              "      <td>6.8977</td>\n",
              "      <td>1008.8</td>\n",
              "      <td>95.939</td>\n",
              "      <td>3.4824</td>\n",
              "      <td>19.779</td>\n",
              "      <td>1059.4</td>\n",
              "      <td>549.87</td>\n",
              "      <td>114.71</td>\n",
              "      <td>10.601</td>\n",
              "      <td>3.2012</td>\n",
              "      <td>82.468</td>\n",
              "    </tr>\n",
              "    <tr>\n",
              "      <th>3</th>\n",
              "      <td>7.0569</td>\n",
              "      <td>1009.2</td>\n",
              "      <td>95.249</td>\n",
              "      <td>3.4805</td>\n",
              "      <td>19.792</td>\n",
              "      <td>1059.6</td>\n",
              "      <td>549.99</td>\n",
              "      <td>114.72</td>\n",
              "      <td>10.606</td>\n",
              "      <td>3.1923</td>\n",
              "      <td>82.670</td>\n",
              "    </tr>\n",
              "    <tr>\n",
              "      <th>4</th>\n",
              "      <td>7.3978</td>\n",
              "      <td>1009.7</td>\n",
              "      <td>95.150</td>\n",
              "      <td>3.4976</td>\n",
              "      <td>19.765</td>\n",
              "      <td>1059.7</td>\n",
              "      <td>549.98</td>\n",
              "      <td>114.72</td>\n",
              "      <td>10.612</td>\n",
              "      <td>3.2484</td>\n",
              "      <td>82.311</td>\n",
              "    </tr>\n",
              "  </tbody>\n",
              "</table>\n",
              "</div>"
            ],
            "text/plain": [
              "       AT      AP      AH    AFDP  ...     TEY     CDP      CO     NOX\n",
              "0  6.8594  1007.9  96.799  3.5000  ...  114.70  10.605  3.1547  82.722\n",
              "1  6.7850  1008.4  97.118  3.4998  ...  114.72  10.598  3.2363  82.776\n",
              "2  6.8977  1008.8  95.939  3.4824  ...  114.71  10.601  3.2012  82.468\n",
              "3  7.0569  1009.2  95.249  3.4805  ...  114.72  10.606  3.1923  82.670\n",
              "4  7.3978  1009.7  95.150  3.4976  ...  114.72  10.612  3.2484  82.311\n",
              "\n",
              "[5 rows x 11 columns]"
            ]
          },
          "metadata": {},
          "execution_count": 3
        }
      ]
    },
    {
      "cell_type": "code",
      "metadata": {
        "colab": {
          "base_uri": "https://localhost:8080/"
        },
        "id": "_AKrVjs0gYa3",
        "outputId": "0acee847-d846-4cf5-c7d5-b28965483048"
      },
      "source": [
        "data.shape"
      ],
      "execution_count": 4,
      "outputs": [
        {
          "output_type": "execute_result",
          "data": {
            "text/plain": [
              "(15039, 11)"
            ]
          },
          "metadata": {},
          "execution_count": 4
        }
      ]
    },
    {
      "cell_type": "code",
      "metadata": {
        "id": "d0IG-7a3gpKN"
      },
      "source": [
        "#ambient_features\n",
        "x= data[['AT','AP','AH']]"
      ],
      "execution_count": 5,
      "outputs": []
    },
    {
      "cell_type": "code",
      "metadata": {
        "colab": {
          "base_uri": "https://localhost:8080/",
          "height": 206
        },
        "id": "u8bbJjRUhADR",
        "outputId": "fcc1e4da-f9b5-4928-ad2f-193337e27bf2"
      },
      "source": [
        "x.head()"
      ],
      "execution_count": 6,
      "outputs": [
        {
          "output_type": "execute_result",
          "data": {
            "text/html": [
              "<div>\n",
              "<style scoped>\n",
              "    .dataframe tbody tr th:only-of-type {\n",
              "        vertical-align: middle;\n",
              "    }\n",
              "\n",
              "    .dataframe tbody tr th {\n",
              "        vertical-align: top;\n",
              "    }\n",
              "\n",
              "    .dataframe thead th {\n",
              "        text-align: right;\n",
              "    }\n",
              "</style>\n",
              "<table border=\"1\" class=\"dataframe\">\n",
              "  <thead>\n",
              "    <tr style=\"text-align: right;\">\n",
              "      <th></th>\n",
              "      <th>AT</th>\n",
              "      <th>AP</th>\n",
              "      <th>AH</th>\n",
              "    </tr>\n",
              "  </thead>\n",
              "  <tbody>\n",
              "    <tr>\n",
              "      <th>0</th>\n",
              "      <td>6.8594</td>\n",
              "      <td>1007.9</td>\n",
              "      <td>96.799</td>\n",
              "    </tr>\n",
              "    <tr>\n",
              "      <th>1</th>\n",
              "      <td>6.7850</td>\n",
              "      <td>1008.4</td>\n",
              "      <td>97.118</td>\n",
              "    </tr>\n",
              "    <tr>\n",
              "      <th>2</th>\n",
              "      <td>6.8977</td>\n",
              "      <td>1008.8</td>\n",
              "      <td>95.939</td>\n",
              "    </tr>\n",
              "    <tr>\n",
              "      <th>3</th>\n",
              "      <td>7.0569</td>\n",
              "      <td>1009.2</td>\n",
              "      <td>95.249</td>\n",
              "    </tr>\n",
              "    <tr>\n",
              "      <th>4</th>\n",
              "      <td>7.3978</td>\n",
              "      <td>1009.7</td>\n",
              "      <td>95.150</td>\n",
              "    </tr>\n",
              "  </tbody>\n",
              "</table>\n",
              "</div>"
            ],
            "text/plain": [
              "       AT      AP      AH\n",
              "0  6.8594  1007.9  96.799\n",
              "1  6.7850  1008.4  97.118\n",
              "2  6.8977  1008.8  95.939\n",
              "3  7.0569  1009.2  95.249\n",
              "4  7.3978  1009.7  95.150"
            ]
          },
          "metadata": {},
          "execution_count": 6
        }
      ]
    },
    {
      "cell_type": "code",
      "metadata": {
        "id": "WFXqW6cuhDVH"
      },
      "source": [
        "y = data[['TEY']]"
      ],
      "execution_count": 7,
      "outputs": []
    },
    {
      "cell_type": "code",
      "metadata": {
        "colab": {
          "base_uri": "https://localhost:8080/",
          "height": 206
        },
        "id": "UytkRcEOhIsm",
        "outputId": "aa721dcc-b943-47f9-ef4d-29e747b09ec4"
      },
      "source": [
        "y.head()"
      ],
      "execution_count": 8,
      "outputs": [
        {
          "output_type": "execute_result",
          "data": {
            "text/html": [
              "<div>\n",
              "<style scoped>\n",
              "    .dataframe tbody tr th:only-of-type {\n",
              "        vertical-align: middle;\n",
              "    }\n",
              "\n",
              "    .dataframe tbody tr th {\n",
              "        vertical-align: top;\n",
              "    }\n",
              "\n",
              "    .dataframe thead th {\n",
              "        text-align: right;\n",
              "    }\n",
              "</style>\n",
              "<table border=\"1\" class=\"dataframe\">\n",
              "  <thead>\n",
              "    <tr style=\"text-align: right;\">\n",
              "      <th></th>\n",
              "      <th>TEY</th>\n",
              "    </tr>\n",
              "  </thead>\n",
              "  <tbody>\n",
              "    <tr>\n",
              "      <th>0</th>\n",
              "      <td>114.70</td>\n",
              "    </tr>\n",
              "    <tr>\n",
              "      <th>1</th>\n",
              "      <td>114.72</td>\n",
              "    </tr>\n",
              "    <tr>\n",
              "      <th>2</th>\n",
              "      <td>114.71</td>\n",
              "    </tr>\n",
              "    <tr>\n",
              "      <th>3</th>\n",
              "      <td>114.72</td>\n",
              "    </tr>\n",
              "    <tr>\n",
              "      <th>4</th>\n",
              "      <td>114.72</td>\n",
              "    </tr>\n",
              "  </tbody>\n",
              "</table>\n",
              "</div>"
            ],
            "text/plain": [
              "      TEY\n",
              "0  114.70\n",
              "1  114.72\n",
              "2  114.71\n",
              "3  114.72\n",
              "4  114.72"
            ]
          },
          "metadata": {},
          "execution_count": 8
        }
      ]
    },
    {
      "cell_type": "code",
      "metadata": {
        "id": "svErqlXlhOSk"
      },
      "source": [
        "from sklearn.model_selection import train_test_split"
      ],
      "execution_count": 9,
      "outputs": []
    },
    {
      "cell_type": "code",
      "metadata": {
        "id": "i3FnbGKJhXVY"
      },
      "source": [
        "x_train, x_test,y_train,y_test = train_test_split(x,y, test_size=0.2,random_state=40)"
      ],
      "execution_count": 10,
      "outputs": []
    },
    {
      "cell_type": "code",
      "metadata": {
        "id": "APIyh7WUhcEe"
      },
      "source": [
        "# create model\n",
        "model = tf.keras.models.Sequential()\n",
        "model.add(tf.keras.layers.Dense(5, input_dim=3, activation='relu'))\n",
        "model.add(tf.keras.layers.Dense(4,  activation='relu'))\n",
        "model.add(tf.keras.layers.Dense(1, activation='relu'))"
      ],
      "execution_count": 11,
      "outputs": []
    },
    {
      "cell_type": "code",
      "metadata": {
        "colab": {
          "base_uri": "https://localhost:8080/"
        },
        "id": "Ld_rFmF9hyNi",
        "outputId": "dd9827ea-4e6e-4128-c155-6bc9dad1b576"
      },
      "source": [
        "model.summary()"
      ],
      "execution_count": 12,
      "outputs": [
        {
          "output_type": "stream",
          "name": "stdout",
          "text": [
            "Model: \"sequential\"\n",
            "_________________________________________________________________\n",
            "Layer (type)                 Output Shape              Param #   \n",
            "=================================================================\n",
            "dense (Dense)                (None, 5)                 20        \n",
            "_________________________________________________________________\n",
            "dense_1 (Dense)              (None, 4)                 24        \n",
            "_________________________________________________________________\n",
            "dense_2 (Dense)              (None, 1)                 5         \n",
            "=================================================================\n",
            "Total params: 49\n",
            "Trainable params: 49\n",
            "Non-trainable params: 0\n",
            "_________________________________________________________________\n"
          ]
        }
      ]
    },
    {
      "cell_type": "code",
      "metadata": {
        "id": "M5KU-g3dh2g3"
      },
      "source": [
        "# Compile model\n",
        "model.compile(loss='binary_crossentropy', optimizer='adam')"
      ],
      "execution_count": 13,
      "outputs": []
    },
    {
      "cell_type": "code",
      "metadata": {
        "colab": {
          "base_uri": "https://localhost:8080/"
        },
        "id": "Zuc2y7iaj2jN",
        "outputId": "49b5b9c1-8aa3-4de2-f498-024c5830369a"
      },
      "source": [
        "# Fit the model\n",
        "history=model.fit(x_train, y_train, validation_split=0.20, epochs=50, batch_size=10)"
      ],
      "execution_count": 14,
      "outputs": [
        {
          "output_type": "stream",
          "name": "stdout",
          "text": [
            "Epoch 1/50\n",
            "963/963 [==============================] - 2s 2ms/step - loss: -2032.0704 - val_loss: -2030.4050\n",
            "Epoch 2/50\n",
            "963/963 [==============================] - 1s 2ms/step - loss: -2032.0701 - val_loss: -2030.4050\n",
            "Epoch 3/50\n",
            "963/963 [==============================] - 1s 1ms/step - loss: -2032.0707 - val_loss: -2030.4050\n",
            "Epoch 4/50\n",
            "963/963 [==============================] - 1s 1ms/step - loss: -2032.0701 - val_loss: -2030.4050\n",
            "Epoch 5/50\n",
            "963/963 [==============================] - 1s 1ms/step - loss: -2032.0710 - val_loss: -2030.4050\n",
            "Epoch 6/50\n",
            "963/963 [==============================] - 1s 1ms/step - loss: -2032.0702 - val_loss: -2030.4050\n",
            "Epoch 7/50\n",
            "963/963 [==============================] - 1s 1ms/step - loss: -2032.0709 - val_loss: -2030.4050\n",
            "Epoch 8/50\n",
            "963/963 [==============================] - 1s 1ms/step - loss: -2032.0730 - val_loss: -2030.4050\n",
            "Epoch 9/50\n",
            "963/963 [==============================] - 1s 1ms/step - loss: -2032.0717 - val_loss: -2030.4050\n",
            "Epoch 10/50\n",
            "963/963 [==============================] - 1s 2ms/step - loss: -2032.0695 - val_loss: -2030.4050\n",
            "Epoch 11/50\n",
            "963/963 [==============================] - 1s 1ms/step - loss: -2032.0709 - val_loss: -2030.4050\n",
            "Epoch 12/50\n",
            "963/963 [==============================] - 1s 1ms/step - loss: -2032.0713 - val_loss: -2030.4050\n",
            "Epoch 13/50\n",
            "963/963 [==============================] - 1s 1ms/step - loss: -2032.0723 - val_loss: -2030.4050\n",
            "Epoch 14/50\n",
            "963/963 [==============================] - 1s 1ms/step - loss: -2032.0709 - val_loss: -2030.4050\n",
            "Epoch 15/50\n",
            "963/963 [==============================] - 1s 1ms/step - loss: -2032.0713 - val_loss: -2030.4050\n",
            "Epoch 16/50\n",
            "963/963 [==============================] - 1s 2ms/step - loss: -2032.0702 - val_loss: -2030.4050\n",
            "Epoch 17/50\n",
            "963/963 [==============================] - 1s 1ms/step - loss: -2032.0704 - val_loss: -2030.4050\n",
            "Epoch 18/50\n",
            "963/963 [==============================] - 1s 2ms/step - loss: -2032.0719 - val_loss: -2030.4050\n",
            "Epoch 19/50\n",
            "963/963 [==============================] - 1s 2ms/step - loss: -2032.0710 - val_loss: -2030.4050\n",
            "Epoch 20/50\n",
            "963/963 [==============================] - 1s 2ms/step - loss: -2032.0725 - val_loss: -2030.4050\n",
            "Epoch 21/50\n",
            "963/963 [==============================] - 1s 1ms/step - loss: -2032.0707 - val_loss: -2030.4050\n",
            "Epoch 22/50\n",
            "963/963 [==============================] - 1s 1ms/step - loss: -2032.0707 - val_loss: -2030.4050\n",
            "Epoch 23/50\n",
            "963/963 [==============================] - 1s 2ms/step - loss: -2032.0715 - val_loss: -2030.4050\n",
            "Epoch 24/50\n",
            "963/963 [==============================] - 1s 1ms/step - loss: -2032.0713 - val_loss: -2030.4050\n",
            "Epoch 25/50\n",
            "963/963 [==============================] - 1s 1ms/step - loss: -2032.0709 - val_loss: -2030.4050\n",
            "Epoch 26/50\n",
            "963/963 [==============================] - 1s 1ms/step - loss: -2032.0701 - val_loss: -2030.4050\n",
            "Epoch 27/50\n",
            "963/963 [==============================] - 1s 2ms/step - loss: -2032.0702 - val_loss: -2030.4050\n",
            "Epoch 28/50\n",
            "963/963 [==============================] - 1s 2ms/step - loss: -2032.0696 - val_loss: -2030.4050\n",
            "Epoch 29/50\n",
            "963/963 [==============================] - 1s 2ms/step - loss: -2032.0715 - val_loss: -2030.4050\n",
            "Epoch 30/50\n",
            "963/963 [==============================] - 1s 1ms/step - loss: -2032.0702 - val_loss: -2030.4050\n",
            "Epoch 31/50\n",
            "963/963 [==============================] - 1s 1ms/step - loss: -2032.0709 - val_loss: -2030.4050\n",
            "Epoch 32/50\n",
            "963/963 [==============================] - 1s 2ms/step - loss: -2032.0702 - val_loss: -2030.4050\n",
            "Epoch 33/50\n",
            "963/963 [==============================] - 1s 1ms/step - loss: -2032.0709 - val_loss: -2030.4050\n",
            "Epoch 34/50\n",
            "963/963 [==============================] - 1s 1ms/step - loss: -2032.0709 - val_loss: -2030.4050\n",
            "Epoch 35/50\n",
            "963/963 [==============================] - 1s 1ms/step - loss: -2032.0707 - val_loss: -2030.4050\n",
            "Epoch 36/50\n",
            "963/963 [==============================] - 1s 1ms/step - loss: -2032.0717 - val_loss: -2030.4050\n",
            "Epoch 37/50\n",
            "963/963 [==============================] - 1s 2ms/step - loss: -2032.0704 - val_loss: -2030.4050\n",
            "Epoch 38/50\n",
            "963/963 [==============================] - 1s 2ms/step - loss: -2032.0702 - val_loss: -2030.4050\n",
            "Epoch 39/50\n",
            "963/963 [==============================] - 1s 2ms/step - loss: -2032.0698 - val_loss: -2030.4050\n",
            "Epoch 40/50\n",
            "963/963 [==============================] - 1s 1ms/step - loss: -2032.0704 - val_loss: -2030.4050\n",
            "Epoch 41/50\n",
            "963/963 [==============================] - 1s 1ms/step - loss: -2032.0701 - val_loss: -2030.4050\n",
            "Epoch 42/50\n",
            "963/963 [==============================] - 1s 1ms/step - loss: -2032.0707 - val_loss: -2030.4050\n",
            "Epoch 43/50\n",
            "963/963 [==============================] - 1s 2ms/step - loss: -2032.0710 - val_loss: -2030.4050\n",
            "Epoch 44/50\n",
            "963/963 [==============================] - 1s 1ms/step - loss: -2032.0707 - val_loss: -2030.4050\n",
            "Epoch 45/50\n",
            "963/963 [==============================] - 1s 1ms/step - loss: -2032.0692 - val_loss: -2030.4050\n",
            "Epoch 46/50\n",
            "963/963 [==============================] - 1s 1ms/step - loss: -2032.0698 - val_loss: -2030.4050\n",
            "Epoch 47/50\n",
            "963/963 [==============================] - 1s 1ms/step - loss: -2032.0690 - val_loss: -2030.4050\n",
            "Epoch 48/50\n",
            "963/963 [==============================] - 1s 1ms/step - loss: -2032.0698 - val_loss: -2030.4050\n",
            "Epoch 49/50\n",
            "963/963 [==============================] - 1s 1ms/step - loss: -2032.0707 - val_loss: -2030.4050\n",
            "Epoch 50/50\n",
            "963/963 [==============================] - 1s 1ms/step - loss: -2032.0701 - val_loss: -2030.4050\n"
          ]
        }
      ]
    },
    {
      "cell_type": "code",
      "metadata": {
        "id": "XJBthnD6kPV7"
      },
      "source": [
        "p =model.predict(x_test)"
      ],
      "execution_count": 15,
      "outputs": []
    },
    {
      "cell_type": "code",
      "metadata": {
        "id": "joR2XNZDkazl"
      },
      "source": [
        "from sklearn.metrics import  mean_squared_error"
      ],
      "execution_count": 16,
      "outputs": []
    },
    {
      "cell_type": "code",
      "metadata": {
        "colab": {
          "base_uri": "https://localhost:8080/"
        },
        "id": "VmKrm3RXk155",
        "outputId": "5b63b13b-053e-4050-9c32-c0281f6ccb0f"
      },
      "source": [
        "mean_squared_error(y_test,p)"
      ],
      "execution_count": 17,
      "outputs": [
        {
          "output_type": "execute_result",
          "data": {
            "text/plain": [
              "3058.027528231539"
            ]
          },
          "metadata": {},
          "execution_count": 17
        }
      ]
    },
    {
      "cell_type": "code",
      "metadata": {
        "colab": {
          "base_uri": "https://localhost:8080/"
        },
        "id": "Uln6c9TslK3o",
        "outputId": "503cdbe9-3e43-43ba-c9d2-520749627e2d"
      },
      "source": [
        "np.sqrt(mean_squared_error(y_true=y_test,y_pred=p))"
      ],
      "execution_count": 18,
      "outputs": [
        {
          "output_type": "execute_result",
          "data": {
            "text/plain": [
              "55.29943515291579"
            ]
          },
          "metadata": {},
          "execution_count": 18
        }
      ]
    }
  ]
}